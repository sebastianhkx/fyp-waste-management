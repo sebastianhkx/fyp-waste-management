{
 "cells": [
  {
   "cell_type": "markdown",
   "metadata": {},
   "source": [
    "# Waste Production Prediction Using Decision Trees"
   ]
  },
  {
   "cell_type": "code",
   "execution_count": 1,
   "metadata": {},
   "outputs": [],
   "source": [
    "import pandas as pd\n",
    "from sklearn.model_selection import train_test_split\n",
    "import matplotlib.pyplot as plt\n",
    "import seaborn as sb\n",
    "import numpy as np"
   ]
  },
  {
   "cell_type": "code",
   "execution_count": 2,
   "metadata": {},
   "outputs": [],
   "source": [
    "default_data = pd.read_excel(\"Waste_Audit_Fake_Data.xlsx\", skiprows=[0])"
   ]
  },
  {
   "cell_type": "code",
   "execution_count": 3,
   "metadata": {
    "scrolled": true
   },
   "outputs": [
    {
     "data": {
      "text/html": [
       "<div>\n",
       "<style scoped>\n",
       "    .dataframe tbody tr th:only-of-type {\n",
       "        vertical-align: middle;\n",
       "    }\n",
       "\n",
       "    .dataframe tbody tr th {\n",
       "        vertical-align: top;\n",
       "    }\n",
       "\n",
       "    .dataframe thead th {\n",
       "        text-align: right;\n",
       "    }\n",
       "</style>\n",
       "<table border=\"1\" class=\"dataframe\">\n",
       "  <thead>\n",
       "    <tr style=\"text-align: right;\">\n",
       "      <th></th>\n",
       "      <th>Building Name</th>\n",
       "      <th>Typology Group</th>\n",
       "      <th>Typology</th>\n",
       "      <th>Sub-Type Group</th>\n",
       "      <th>Sub-Type</th>\n",
       "      <th>GFA</th>\n",
       "      <th>Est. Average Daily Occupancy (Continuous Basis)</th>\n",
       "      <th>Audit 1</th>\n",
       "      <th>Audit 2</th>\n",
       "      <th>Audit 3</th>\n",
       "      <th>Audit 4</th>\n",
       "      <th>Audit 5</th>\n",
       "      <th>audit_avg</th>\n",
       "      <th>Waste Production Category</th>\n",
       "    </tr>\n",
       "  </thead>\n",
       "  <tbody>\n",
       "    <tr>\n",
       "      <th>0</th>\n",
       "      <td>B1246Z</td>\n",
       "      <td>5</td>\n",
       "      <td>Industrial</td>\n",
       "      <td>12</td>\n",
       "      <td>Manufacturing</td>\n",
       "      <td>18559</td>\n",
       "      <td>298</td>\n",
       "      <td>1011</td>\n",
       "      <td>1190</td>\n",
       "      <td>1027</td>\n",
       "      <td>1115</td>\n",
       "      <td>1288</td>\n",
       "      <td>1126.2</td>\n",
       "      <td>Moderate Waste Production (1000-1500KG)</td>\n",
       "    </tr>\n",
       "    <tr>\n",
       "      <th>1</th>\n",
       "      <td>B1779Q</td>\n",
       "      <td>3</td>\n",
       "      <td>Educational</td>\n",
       "      <td>7</td>\n",
       "      <td>Nurseries</td>\n",
       "      <td>6470</td>\n",
       "      <td>262</td>\n",
       "      <td>828</td>\n",
       "      <td>920</td>\n",
       "      <td>828</td>\n",
       "      <td>676</td>\n",
       "      <td>884</td>\n",
       "      <td>827.2</td>\n",
       "      <td>Low Waste Production (500-1000KG)</td>\n",
       "    </tr>\n",
       "    <tr>\n",
       "      <th>2</th>\n",
       "      <td>B1857X</td>\n",
       "      <td>2</td>\n",
       "      <td>Residential</td>\n",
       "      <td>4</td>\n",
       "      <td>Landed Property</td>\n",
       "      <td>2158</td>\n",
       "      <td>6</td>\n",
       "      <td>12</td>\n",
       "      <td>15</td>\n",
       "      <td>12</td>\n",
       "      <td>10</td>\n",
       "      <td>10</td>\n",
       "      <td>11.8</td>\n",
       "      <td>Lowest Waste Production (&lt;500KG)</td>\n",
       "    </tr>\n",
       "    <tr>\n",
       "      <th>3</th>\n",
       "      <td>B1646W</td>\n",
       "      <td>4</td>\n",
       "      <td>Institutional</td>\n",
       "      <td>11</td>\n",
       "      <td>Fire Station</td>\n",
       "      <td>10346</td>\n",
       "      <td>125</td>\n",
       "      <td>370</td>\n",
       "      <td>242</td>\n",
       "      <td>206</td>\n",
       "      <td>387</td>\n",
       "      <td>213</td>\n",
       "      <td>283.6</td>\n",
       "      <td>Lowest Waste Production (&lt;500KG)</td>\n",
       "    </tr>\n",
       "    <tr>\n",
       "      <th>4</th>\n",
       "      <td>B1461W</td>\n",
       "      <td>6</td>\n",
       "      <td>Storage</td>\n",
       "      <td>15</td>\n",
       "      <td>Garage</td>\n",
       "      <td>120050</td>\n",
       "      <td>544</td>\n",
       "      <td>980</td>\n",
       "      <td>1184</td>\n",
       "      <td>1121</td>\n",
       "      <td>1031</td>\n",
       "      <td>1243</td>\n",
       "      <td>1111.8</td>\n",
       "      <td>Moderate Waste Production (1000-1500KG)</td>\n",
       "    </tr>\n",
       "  </tbody>\n",
       "</table>\n",
       "</div>"
      ],
      "text/plain": [
       "  Building Name  Typology Group       Typology  Sub-Type Group  \\\n",
       "0        B1246Z               5     Industrial              12   \n",
       "1        B1779Q               3    Educational               7   \n",
       "2        B1857X               2    Residential               4   \n",
       "3        B1646W               4  Institutional              11   \n",
       "4        B1461W               6        Storage              15   \n",
       "\n",
       "          Sub-Type     GFA  Est. Average Daily Occupancy (Continuous Basis)  \\\n",
       "0    Manufacturing   18559                                              298   \n",
       "1        Nurseries    6470                                              262   \n",
       "2  Landed Property    2158                                                6   \n",
       "3     Fire Station   10346                                              125   \n",
       "4           Garage  120050                                              544   \n",
       "\n",
       "   Audit 1  Audit 2  Audit 3  Audit 4  Audit 5  audit_avg  \\\n",
       "0     1011     1190     1027     1115     1288     1126.2   \n",
       "1      828      920      828      676      884      827.2   \n",
       "2       12       15       12       10       10       11.8   \n",
       "3      370      242      206      387      213      283.6   \n",
       "4      980     1184     1121     1031     1243     1111.8   \n",
       "\n",
       "                 Waste Production Category  \n",
       "0  Moderate Waste Production (1000-1500KG)  \n",
       "1        Low Waste Production (500-1000KG)  \n",
       "2         Lowest Waste Production (<500KG)  \n",
       "3         Lowest Waste Production (<500KG)  \n",
       "4  Moderate Waste Production (1000-1500KG)  "
      ]
     },
     "execution_count": 3,
     "metadata": {},
     "output_type": "execute_result"
    }
   ],
   "source": [
    "default_data.head()"
   ]
  },
  {
   "cell_type": "code",
   "execution_count": 4,
   "metadata": {},
   "outputs": [
    {
     "data": {
      "text/plain": [
       "Building Name                                      0\n",
       "Typology Group                                     0\n",
       "Typology                                           0\n",
       "Sub-Type Group                                     0\n",
       "Sub-Type                                           0\n",
       "GFA                                                0\n",
       "Est. Average Daily Occupancy (Continuous Basis)    0\n",
       "Audit 1                                            0\n",
       "Audit 2                                            0\n",
       "Audit 3                                            0\n",
       "Audit 4                                            0\n",
       "Audit 5                                            0\n",
       "audit_avg                                          0\n",
       "Waste Production Category                          0\n",
       "dtype: int64"
      ]
     },
     "execution_count": 4,
     "metadata": {},
     "output_type": "execute_result"
    }
   ],
   "source": [
    "default_data.isnull().sum()"
   ]
  },
  {
   "cell_type": "code",
   "execution_count": 5,
   "metadata": {},
   "outputs": [
    {
     "name": "stdout",
     "output_type": "stream",
     "text": [
      "<class 'pandas.core.frame.DataFrame'>\n",
      "RangeIndex: 440 entries, 0 to 439\n",
      "Data columns (total 14 columns):\n",
      " #   Column                                           Non-Null Count  Dtype  \n",
      "---  ------                                           --------------  -----  \n",
      " 0   Building Name                                    440 non-null    object \n",
      " 1   Typology Group                                   440 non-null    int64  \n",
      " 2   Typology                                         440 non-null    object \n",
      " 3   Sub-Type Group                                   440 non-null    int64  \n",
      " 4   Sub-Type                                         440 non-null    object \n",
      " 5   GFA                                              440 non-null    int64  \n",
      " 6   Est. Average Daily Occupancy (Continuous Basis)  440 non-null    int64  \n",
      " 7   Audit 1                                          440 non-null    int64  \n",
      " 8   Audit 2                                          440 non-null    int64  \n",
      " 9   Audit 3                                          440 non-null    int64  \n",
      " 10  Audit 4                                          440 non-null    int64  \n",
      " 11  Audit 5                                          440 non-null    int64  \n",
      " 12  audit_avg                                        440 non-null    float64\n",
      " 13  Waste Production Category                        440 non-null    object \n",
      "dtypes: float64(1), int64(9), object(4)\n",
      "memory usage: 48.2+ KB\n"
     ]
    }
   ],
   "source": [
    "default_data.info()"
   ]
  },
  {
   "cell_type": "code",
   "execution_count": 6,
   "metadata": {},
   "outputs": [
    {
     "data": {
      "text/html": [
       "<div>\n",
       "<style scoped>\n",
       "    .dataframe tbody tr th:only-of-type {\n",
       "        vertical-align: middle;\n",
       "    }\n",
       "\n",
       "    .dataframe tbody tr th {\n",
       "        vertical-align: top;\n",
       "    }\n",
       "\n",
       "    .dataframe thead th {\n",
       "        text-align: right;\n",
       "    }\n",
       "</style>\n",
       "<table border=\"1\" class=\"dataframe\">\n",
       "  <thead>\n",
       "    <tr style=\"text-align: right;\">\n",
       "      <th></th>\n",
       "      <th>Typology Group</th>\n",
       "      <th>Sub-Type Group</th>\n",
       "      <th>GFA</th>\n",
       "      <th>Est. Average Daily Occupancy (Continuous Basis)</th>\n",
       "      <th>Audit 1</th>\n",
       "      <th>Audit 2</th>\n",
       "      <th>Audit 3</th>\n",
       "      <th>Audit 4</th>\n",
       "      <th>Audit 5</th>\n",
       "      <th>audit_avg</th>\n",
       "    </tr>\n",
       "  </thead>\n",
       "  <tbody>\n",
       "    <tr>\n",
       "      <th>count</th>\n",
       "      <td>440.000000</td>\n",
       "      <td>440.000000</td>\n",
       "      <td>440.000000</td>\n",
       "      <td>440.000000</td>\n",
       "      <td>440.000000</td>\n",
       "      <td>440.000000</td>\n",
       "      <td>440.000000</td>\n",
       "      <td>440.000000</td>\n",
       "      <td>440.000000</td>\n",
       "      <td>440.000000</td>\n",
       "    </tr>\n",
       "    <tr>\n",
       "      <th>mean</th>\n",
       "      <td>3.445455</td>\n",
       "      <td>8.261364</td>\n",
       "      <td>41802.281818</td>\n",
       "      <td>5246.422727</td>\n",
       "      <td>973.818182</td>\n",
       "      <td>970.290909</td>\n",
       "      <td>968.347727</td>\n",
       "      <td>960.065909</td>\n",
       "      <td>979.100000</td>\n",
       "      <td>970.324545</td>\n",
       "    </tr>\n",
       "    <tr>\n",
       "      <th>std</th>\n",
       "      <td>1.552932</td>\n",
       "      <td>4.077535</td>\n",
       "      <td>50198.978462</td>\n",
       "      <td>8836.938287</td>\n",
       "      <td>1146.025676</td>\n",
       "      <td>1114.653237</td>\n",
       "      <td>1148.462724</td>\n",
       "      <td>1099.077371</td>\n",
       "      <td>1134.811372</td>\n",
       "      <td>1096.151030</td>\n",
       "    </tr>\n",
       "    <tr>\n",
       "      <th>min</th>\n",
       "      <td>1.000000</td>\n",
       "      <td>1.000000</td>\n",
       "      <td>1024.000000</td>\n",
       "      <td>2.000000</td>\n",
       "      <td>6.000000</td>\n",
       "      <td>6.000000</td>\n",
       "      <td>0.000000</td>\n",
       "      <td>0.000000</td>\n",
       "      <td>0.000000</td>\n",
       "      <td>7.000000</td>\n",
       "    </tr>\n",
       "    <tr>\n",
       "      <th>25%</th>\n",
       "      <td>2.000000</td>\n",
       "      <td>5.000000</td>\n",
       "      <td>8272.750000</td>\n",
       "      <td>186.750000</td>\n",
       "      <td>310.500000</td>\n",
       "      <td>315.000000</td>\n",
       "      <td>342.500000</td>\n",
       "      <td>296.250000</td>\n",
       "      <td>311.500000</td>\n",
       "      <td>309.950000</td>\n",
       "    </tr>\n",
       "    <tr>\n",
       "      <th>50%</th>\n",
       "      <td>3.000000</td>\n",
       "      <td>8.000000</td>\n",
       "      <td>11669.000000</td>\n",
       "      <td>469.000000</td>\n",
       "      <td>785.500000</td>\n",
       "      <td>833.000000</td>\n",
       "      <td>768.000000</td>\n",
       "      <td>834.000000</td>\n",
       "      <td>798.000000</td>\n",
       "      <td>798.300000</td>\n",
       "    </tr>\n",
       "    <tr>\n",
       "      <th>75%</th>\n",
       "      <td>5.000000</td>\n",
       "      <td>12.000000</td>\n",
       "      <td>95953.750000</td>\n",
       "      <td>6838.250000</td>\n",
       "      <td>1099.000000</td>\n",
       "      <td>1117.000000</td>\n",
       "      <td>1078.750000</td>\n",
       "      <td>1095.250000</td>\n",
       "      <td>1111.250000</td>\n",
       "      <td>1091.200000</td>\n",
       "    </tr>\n",
       "    <tr>\n",
       "      <th>max</th>\n",
       "      <td>6.000000</td>\n",
       "      <td>15.000000</td>\n",
       "      <td>169355.000000</td>\n",
       "      <td>29942.000000</td>\n",
       "      <td>5906.000000</td>\n",
       "      <td>5974.000000</td>\n",
       "      <td>5766.000000</td>\n",
       "      <td>5863.000000</td>\n",
       "      <td>5706.000000</td>\n",
       "      <td>5396.800000</td>\n",
       "    </tr>\n",
       "  </tbody>\n",
       "</table>\n",
       "</div>"
      ],
      "text/plain": [
       "       Typology Group  Sub-Type Group            GFA  \\\n",
       "count      440.000000      440.000000     440.000000   \n",
       "mean         3.445455        8.261364   41802.281818   \n",
       "std          1.552932        4.077535   50198.978462   \n",
       "min          1.000000        1.000000    1024.000000   \n",
       "25%          2.000000        5.000000    8272.750000   \n",
       "50%          3.000000        8.000000   11669.000000   \n",
       "75%          5.000000       12.000000   95953.750000   \n",
       "max          6.000000       15.000000  169355.000000   \n",
       "\n",
       "       Est. Average Daily Occupancy (Continuous Basis)      Audit 1  \\\n",
       "count                                       440.000000   440.000000   \n",
       "mean                                       5246.422727   973.818182   \n",
       "std                                        8836.938287  1146.025676   \n",
       "min                                           2.000000     6.000000   \n",
       "25%                                         186.750000   310.500000   \n",
       "50%                                         469.000000   785.500000   \n",
       "75%                                        6838.250000  1099.000000   \n",
       "max                                       29942.000000  5906.000000   \n",
       "\n",
       "           Audit 2      Audit 3      Audit 4      Audit 5    audit_avg  \n",
       "count   440.000000   440.000000   440.000000   440.000000   440.000000  \n",
       "mean    970.290909   968.347727   960.065909   979.100000   970.324545  \n",
       "std    1114.653237  1148.462724  1099.077371  1134.811372  1096.151030  \n",
       "min       6.000000     0.000000     0.000000     0.000000     7.000000  \n",
       "25%     315.000000   342.500000   296.250000   311.500000   309.950000  \n",
       "50%     833.000000   768.000000   834.000000   798.000000   798.300000  \n",
       "75%    1117.000000  1078.750000  1095.250000  1111.250000  1091.200000  \n",
       "max    5974.000000  5766.000000  5863.000000  5706.000000  5396.800000  "
      ]
     },
     "execution_count": 6,
     "metadata": {},
     "output_type": "execute_result"
    }
   ],
   "source": [
    "default_data.describe()"
   ]
  },
  {
   "cell_type": "code",
   "execution_count": 7,
   "metadata": {},
   "outputs": [],
   "source": [
    "# default_data['Audit 1'].mean(axis=1)\n",
    "# df = pd.DataFrame(default_data, index =['Audit 1','Audit 2','Audit 3','Audit 4','Audit 5'])\n",
    "\n",
    "audit_avg = default_data[['Audit 1','Audit 2','Audit 3','Audit 4','Audit 5']].mean(axis=1)\n",
    "default_data['audit_avg'] = audit_avg"
   ]
  },
  {
   "cell_type": "code",
   "execution_count": 8,
   "metadata": {},
   "outputs": [
    {
     "data": {
      "text/plain": [
       "Lowest Waste Production (<500KG)                  144\n",
       "Low Waste Production (500-1000KG)                 133\n",
       "Moderate Waste Production (1000-1500KG)           124\n",
       "Highest Waste Production (>3500KG)                 34\n",
       "Moderately High Waste Production (1500-2000KG)      5\n",
       "Name: Waste Production Category, dtype: int64"
      ]
     },
     "execution_count": 8,
     "metadata": {},
     "output_type": "execute_result"
    }
   ],
   "source": [
    "default_data['Waste Production Category'].value_counts()"
   ]
  },
  {
   "cell_type": "code",
   "execution_count": 9,
   "metadata": {},
   "outputs": [],
   "source": [
    "default_data.rename(columns={'Est. Average Daily Occupancy (Continuous Basis)':'Daily_Occupancy'},\n",
    "inplace=True)"
   ]
  },
  {
   "cell_type": "code",
   "execution_count": 10,
   "metadata": {},
   "outputs": [
    {
     "data": {
      "text/html": [
       "<div>\n",
       "<style scoped>\n",
       "    .dataframe tbody tr th:only-of-type {\n",
       "        vertical-align: middle;\n",
       "    }\n",
       "\n",
       "    .dataframe tbody tr th {\n",
       "        vertical-align: top;\n",
       "    }\n",
       "\n",
       "    .dataframe thead th {\n",
       "        text-align: right;\n",
       "    }\n",
       "</style>\n",
       "<table border=\"1\" class=\"dataframe\">\n",
       "  <thead>\n",
       "    <tr style=\"text-align: right;\">\n",
       "      <th></th>\n",
       "      <th>Building Name</th>\n",
       "      <th>Typology Group</th>\n",
       "      <th>Typology</th>\n",
       "      <th>Sub-Type Group</th>\n",
       "      <th>Sub-Type</th>\n",
       "      <th>GFA</th>\n",
       "      <th>Daily_Occupancy</th>\n",
       "      <th>Audit 1</th>\n",
       "      <th>Audit 2</th>\n",
       "      <th>Audit 3</th>\n",
       "      <th>Audit 4</th>\n",
       "      <th>Audit 5</th>\n",
       "      <th>audit_avg</th>\n",
       "      <th>Waste Production Category</th>\n",
       "    </tr>\n",
       "  </thead>\n",
       "  <tbody>\n",
       "    <tr>\n",
       "      <th>0</th>\n",
       "      <td>B1246Z</td>\n",
       "      <td>5</td>\n",
       "      <td>Industrial</td>\n",
       "      <td>12</td>\n",
       "      <td>Manufacturing</td>\n",
       "      <td>18559</td>\n",
       "      <td>298</td>\n",
       "      <td>1011</td>\n",
       "      <td>1190</td>\n",
       "      <td>1027</td>\n",
       "      <td>1115</td>\n",
       "      <td>1288</td>\n",
       "      <td>1126.2</td>\n",
       "      <td>Moderate Waste Production (1000-1500KG)</td>\n",
       "    </tr>\n",
       "    <tr>\n",
       "      <th>1</th>\n",
       "      <td>B1779Q</td>\n",
       "      <td>3</td>\n",
       "      <td>Educational</td>\n",
       "      <td>7</td>\n",
       "      <td>Nurseries</td>\n",
       "      <td>6470</td>\n",
       "      <td>262</td>\n",
       "      <td>828</td>\n",
       "      <td>920</td>\n",
       "      <td>828</td>\n",
       "      <td>676</td>\n",
       "      <td>884</td>\n",
       "      <td>827.2</td>\n",
       "      <td>Low Waste Production (500-1000KG)</td>\n",
       "    </tr>\n",
       "    <tr>\n",
       "      <th>2</th>\n",
       "      <td>B1857X</td>\n",
       "      <td>2</td>\n",
       "      <td>Residential</td>\n",
       "      <td>4</td>\n",
       "      <td>Landed Property</td>\n",
       "      <td>2158</td>\n",
       "      <td>6</td>\n",
       "      <td>12</td>\n",
       "      <td>15</td>\n",
       "      <td>12</td>\n",
       "      <td>10</td>\n",
       "      <td>10</td>\n",
       "      <td>11.8</td>\n",
       "      <td>Lowest Waste Production (&lt;500KG)</td>\n",
       "    </tr>\n",
       "    <tr>\n",
       "      <th>3</th>\n",
       "      <td>B1646W</td>\n",
       "      <td>4</td>\n",
       "      <td>Institutional</td>\n",
       "      <td>11</td>\n",
       "      <td>Fire Station</td>\n",
       "      <td>10346</td>\n",
       "      <td>125</td>\n",
       "      <td>370</td>\n",
       "      <td>242</td>\n",
       "      <td>206</td>\n",
       "      <td>387</td>\n",
       "      <td>213</td>\n",
       "      <td>283.6</td>\n",
       "      <td>Lowest Waste Production (&lt;500KG)</td>\n",
       "    </tr>\n",
       "    <tr>\n",
       "      <th>4</th>\n",
       "      <td>B1461W</td>\n",
       "      <td>6</td>\n",
       "      <td>Storage</td>\n",
       "      <td>15</td>\n",
       "      <td>Garage</td>\n",
       "      <td>120050</td>\n",
       "      <td>544</td>\n",
       "      <td>980</td>\n",
       "      <td>1184</td>\n",
       "      <td>1121</td>\n",
       "      <td>1031</td>\n",
       "      <td>1243</td>\n",
       "      <td>1111.8</td>\n",
       "      <td>Moderate Waste Production (1000-1500KG)</td>\n",
       "    </tr>\n",
       "    <tr>\n",
       "      <th>...</th>\n",
       "      <td>...</td>\n",
       "      <td>...</td>\n",
       "      <td>...</td>\n",
       "      <td>...</td>\n",
       "      <td>...</td>\n",
       "      <td>...</td>\n",
       "      <td>...</td>\n",
       "      <td>...</td>\n",
       "      <td>...</td>\n",
       "      <td>...</td>\n",
       "      <td>...</td>\n",
       "      <td>...</td>\n",
       "      <td>...</td>\n",
       "      <td>...</td>\n",
       "    </tr>\n",
       "    <tr>\n",
       "      <th>435</th>\n",
       "      <td>BO00733E</td>\n",
       "      <td>1</td>\n",
       "      <td>Commercial</td>\n",
       "      <td>1</td>\n",
       "      <td>Retail Mixed</td>\n",
       "      <td>22253</td>\n",
       "      <td>3200</td>\n",
       "      <td>1200</td>\n",
       "      <td>450</td>\n",
       "      <td>1480</td>\n",
       "      <td>2150</td>\n",
       "      <td>750</td>\n",
       "      <td>1206.0</td>\n",
       "      <td>Moderate Waste Production (1000-1500KG)</td>\n",
       "    </tr>\n",
       "    <tr>\n",
       "      <th>436</th>\n",
       "      <td>BO00773C</td>\n",
       "      <td>1</td>\n",
       "      <td>Commercial</td>\n",
       "      <td>1</td>\n",
       "      <td>Retail Mixed</td>\n",
       "      <td>12150</td>\n",
       "      <td>2154</td>\n",
       "      <td>650</td>\n",
       "      <td>830</td>\n",
       "      <td>0</td>\n",
       "      <td>950</td>\n",
       "      <td>310</td>\n",
       "      <td>548.0</td>\n",
       "      <td>Low Waste Production (500-1000KG)</td>\n",
       "    </tr>\n",
       "    <tr>\n",
       "      <th>437</th>\n",
       "      <td>BO0134N</td>\n",
       "      <td>1</td>\n",
       "      <td>Commercial</td>\n",
       "      <td>3</td>\n",
       "      <td>Retail Non-Food</td>\n",
       "      <td>11550</td>\n",
       "      <td>750</td>\n",
       "      <td>120</td>\n",
       "      <td>135</td>\n",
       "      <td>0</td>\n",
       "      <td>0</td>\n",
       "      <td>60</td>\n",
       "      <td>63.0</td>\n",
       "      <td>Lowest Waste Production (&lt;500KG)</td>\n",
       "    </tr>\n",
       "    <tr>\n",
       "      <th>438</th>\n",
       "      <td>BO0143E</td>\n",
       "      <td>1</td>\n",
       "      <td>Commercial</td>\n",
       "      <td>2</td>\n",
       "      <td>Office</td>\n",
       "      <td>7500</td>\n",
       "      <td>165</td>\n",
       "      <td>40</td>\n",
       "      <td>25</td>\n",
       "      <td>45</td>\n",
       "      <td>0</td>\n",
       "      <td>0</td>\n",
       "      <td>22.0</td>\n",
       "      <td>Lowest Waste Production (&lt;500KG)</td>\n",
       "    </tr>\n",
       "    <tr>\n",
       "      <th>439</th>\n",
       "      <td>BY1343F</td>\n",
       "      <td>1</td>\n",
       "      <td>Commercial</td>\n",
       "      <td>2</td>\n",
       "      <td>Office</td>\n",
       "      <td>4000</td>\n",
       "      <td>80</td>\n",
       "      <td>40</td>\n",
       "      <td>35</td>\n",
       "      <td>28</td>\n",
       "      <td>15</td>\n",
       "      <td>17</td>\n",
       "      <td>27.0</td>\n",
       "      <td>Lowest Waste Production (&lt;500KG)</td>\n",
       "    </tr>\n",
       "  </tbody>\n",
       "</table>\n",
       "<p>440 rows × 14 columns</p>\n",
       "</div>"
      ],
      "text/plain": [
       "    Building Name  Typology Group       Typology  Sub-Type Group  \\\n",
       "0          B1246Z               5     Industrial              12   \n",
       "1          B1779Q               3    Educational               7   \n",
       "2          B1857X               2    Residential               4   \n",
       "3          B1646W               4  Institutional              11   \n",
       "4          B1461W               6        Storage              15   \n",
       "..            ...             ...            ...             ...   \n",
       "435      BO00733E               1     Commercial               1   \n",
       "436      BO00773C               1     Commercial               1   \n",
       "437       BO0134N               1     Commercial               3   \n",
       "438       BO0143E               1     Commercial               2   \n",
       "439       BY1343F               1     Commercial               2   \n",
       "\n",
       "            Sub-Type     GFA  Daily_Occupancy  Audit 1  Audit 2  Audit 3  \\\n",
       "0      Manufacturing   18559              298     1011     1190     1027   \n",
       "1          Nurseries    6470              262      828      920      828   \n",
       "2    Landed Property    2158                6       12       15       12   \n",
       "3       Fire Station   10346              125      370      242      206   \n",
       "4             Garage  120050              544      980     1184     1121   \n",
       "..               ...     ...              ...      ...      ...      ...   \n",
       "435     Retail Mixed   22253             3200     1200      450     1480   \n",
       "436     Retail Mixed   12150             2154      650      830        0   \n",
       "437  Retail Non-Food   11550              750      120      135        0   \n",
       "438           Office    7500              165       40       25       45   \n",
       "439           Office    4000               80       40       35       28   \n",
       "\n",
       "     Audit 4  Audit 5  audit_avg                Waste Production Category  \n",
       "0       1115     1288     1126.2  Moderate Waste Production (1000-1500KG)  \n",
       "1        676      884      827.2        Low Waste Production (500-1000KG)  \n",
       "2         10       10       11.8         Lowest Waste Production (<500KG)  \n",
       "3        387      213      283.6         Lowest Waste Production (<500KG)  \n",
       "4       1031     1243     1111.8  Moderate Waste Production (1000-1500KG)  \n",
       "..       ...      ...        ...                                      ...  \n",
       "435     2150      750     1206.0  Moderate Waste Production (1000-1500KG)  \n",
       "436      950      310      548.0        Low Waste Production (500-1000KG)  \n",
       "437        0       60       63.0         Lowest Waste Production (<500KG)  \n",
       "438        0        0       22.0         Lowest Waste Production (<500KG)  \n",
       "439       15       17       27.0         Lowest Waste Production (<500KG)  \n",
       "\n",
       "[440 rows x 14 columns]"
      ]
     },
     "execution_count": 10,
     "metadata": {},
     "output_type": "execute_result"
    }
   ],
   "source": [
    "default_data"
   ]
  },
  {
   "cell_type": "code",
   "execution_count": 11,
   "metadata": {},
   "outputs": [
    {
     "data": {
      "text/plain": [
       "Building Name                 object\n",
       "Typology Group                 int64\n",
       "Typology                      object\n",
       "Sub-Type Group                 int64\n",
       "Sub-Type                      object\n",
       "GFA                            int64\n",
       "Daily_Occupancy                int64\n",
       "Audit 1                        int64\n",
       "Audit 2                        int64\n",
       "Audit 3                        int64\n",
       "Audit 4                        int64\n",
       "Audit 5                        int64\n",
       "audit_avg                    float64\n",
       "Waste Production Category     object\n",
       "dtype: object"
      ]
     },
     "execution_count": 11,
     "metadata": {},
     "output_type": "execute_result"
    }
   ],
   "source": [
    "default_data.dtypes"
   ]
  },
  {
   "cell_type": "markdown",
   "metadata": {},
   "source": [
    "### Simple Decision Tree"
   ]
  },
  {
   "cell_type": "markdown",
   "metadata": {},
   "source": [
    "#### Response Variable : Waste Production Category\n",
    "#### Predictor Feature: GFA"
   ]
  },
  {
   "cell_type": "code",
   "execution_count": 12,
   "metadata": {},
   "outputs": [],
   "source": [
    "wpc = pd.DataFrame(default_data['Waste Production Category'])  # Response\n",
    "gfa = pd.DataFrame(default_data['GFA'])      # Predictor"
   ]
  },
  {
   "cell_type": "markdown",
   "metadata": {},
   "source": [
    "Set up the classification problem with Train and Test datasets.\n",
    "Train Set with 400 samples and Test Set with 40 samples."
   ]
  },
  {
   "cell_type": "code",
   "execution_count": 13,
   "metadata": {},
   "outputs": [
    {
     "name": "stdout",
     "output_type": "stream",
     "text": [
      "Train Set : (400, 1) (400, 1)\n",
      "Test Set  : (40, 1) (40, 1)\n"
     ]
    }
   ],
   "source": [
    "# Train Set : 400 samples\n",
    "wpc_train = pd.DataFrame(wpc[:400])\n",
    "gfa_train = pd.DataFrame(gfa[:400])\n",
    "\n",
    "# Test Set : 400 samples\n",
    "wpc_test = pd.DataFrame(wpc[-40:])\n",
    "gfa_test = pd.DataFrame(gfa[-40:])\n",
    "\n",
    "# Check the sample sizes\n",
    "print(\"Train Set :\", wpc_train.shape, gfa_train.shape)\n",
    "print(\"Test Set  :\", wpc_test.shape, gfa_test.shape)"
   ]
  },
  {
   "cell_type": "code",
   "execution_count": 14,
   "metadata": {},
   "outputs": [
    {
     "data": {
      "text/plain": [
       "pandas.core.series.Series"
      ]
     },
     "execution_count": 14,
     "metadata": {},
     "output_type": "execute_result"
    }
   ],
   "source": [
    "type(gfa_train[\"GFA\"])"
   ]
  },
  {
   "cell_type": "markdown",
   "metadata": {},
   "source": [
    "#### Basic Exploration\n",
    "##### Perform basic statistical exploration and visualization on the Train Set."
   ]
  },
  {
   "cell_type": "code",
   "execution_count": 15,
   "metadata": {},
   "outputs": [
    {
     "data": {
      "text/plain": [
       "Lowest Waste Production (<500KG)                  134\n",
       "Low Waste Production (500-1000KG)                 120\n",
       "Moderate Waste Production (1000-1500KG)           109\n",
       "Highest Waste Production (>3500KG)                 32\n",
       "Moderately High Waste Production (1500-2000KG)      5\n",
       "Name: Waste Production Category, dtype: int64"
      ]
     },
     "execution_count": 15,
     "metadata": {},
     "output_type": "execute_result"
    }
   ],
   "source": [
    "# Summary Statistics for wpc Train\n",
    "wpc_train[\"Waste Production Category\"].value_counts()"
   ]
  },
  {
   "cell_type": "code",
   "execution_count": 16,
   "metadata": {},
   "outputs": [
    {
     "data": {
      "text/html": [
       "<div>\n",
       "<style scoped>\n",
       "    .dataframe tbody tr th:only-of-type {\n",
       "        vertical-align: middle;\n",
       "    }\n",
       "\n",
       "    .dataframe tbody tr th {\n",
       "        vertical-align: top;\n",
       "    }\n",
       "\n",
       "    .dataframe thead th {\n",
       "        text-align: right;\n",
       "    }\n",
       "</style>\n",
       "<table border=\"1\" class=\"dataframe\">\n",
       "  <thead>\n",
       "    <tr style=\"text-align: right;\">\n",
       "      <th></th>\n",
       "      <th>GFA</th>\n",
       "    </tr>\n",
       "  </thead>\n",
       "  <tbody>\n",
       "    <tr>\n",
       "      <th>count</th>\n",
       "      <td>400.000000</td>\n",
       "    </tr>\n",
       "    <tr>\n",
       "      <th>mean</th>\n",
       "      <td>41479.455000</td>\n",
       "    </tr>\n",
       "    <tr>\n",
       "      <th>std</th>\n",
       "      <td>50099.157108</td>\n",
       "    </tr>\n",
       "    <tr>\n",
       "      <th>min</th>\n",
       "      <td>1024.000000</td>\n",
       "    </tr>\n",
       "    <tr>\n",
       "      <th>25%</th>\n",
       "      <td>8081.750000</td>\n",
       "    </tr>\n",
       "    <tr>\n",
       "      <th>50%</th>\n",
       "      <td>11563.000000</td>\n",
       "    </tr>\n",
       "    <tr>\n",
       "      <th>75%</th>\n",
       "      <td>95953.750000</td>\n",
       "    </tr>\n",
       "    <tr>\n",
       "      <th>max</th>\n",
       "      <td>169355.000000</td>\n",
       "    </tr>\n",
       "  </tbody>\n",
       "</table>\n",
       "</div>"
      ],
      "text/plain": [
       "                 GFA\n",
       "count     400.000000\n",
       "mean    41479.455000\n",
       "std     50099.157108\n",
       "min      1024.000000\n",
       "25%      8081.750000\n",
       "50%     11563.000000\n",
       "75%     95953.750000\n",
       "max    169355.000000"
      ]
     },
     "execution_count": 16,
     "metadata": {},
     "output_type": "execute_result"
    }
   ],
   "source": [
    "# Summary Statistics for gfa Train\n",
    "gfa_train.describe()"
   ]
  },
  {
   "cell_type": "code",
   "execution_count": 17,
   "metadata": {},
   "outputs": [
    {
     "name": "stderr",
     "output_type": "stream",
     "text": [
      "C:\\Users\\Hongren\\Anaconda3\\lib\\site-packages\\seaborn\\_decorators.py:43: FutureWarning: Pass the following variable as a keyword arg: x. From version 0.12, the only valid positional argument will be `data`, and passing other arguments without an explicit keyword will result in an error or misinterpretation.\n",
      "  FutureWarning\n"
     ]
    },
    {
     "data": {
      "text/plain": [
       "<AxesSubplot:xlabel='Waste Production Category', ylabel='count'>"
      ]
     },
     "execution_count": 17,
     "metadata": {},
     "output_type": "execute_result"
    },
    {
     "data": {
      "image/png": "[encoded data removed]",
      "text/plain": [
       "<Figure size 432x288 with 1 Axes>"
      ]
     },
     "metadata": {
      "needs_background": "light"
     },
     "output_type": "display_data"
    }
   ],
   "source": [
    "# Count Plot for wpc Train\n",
    "sb.countplot(wpc_train[\"Waste Production Category\"])"
   ]
  },
  {
   "cell_type": "code",
   "execution_count": 18,
   "metadata": {},
   "outputs": [
    {
     "name": "stderr",
     "output_type": "stream",
     "text": [
      "C:\\Users\\Hongren\\Anaconda3\\lib\\site-packages\\seaborn\\distributions.py:2551: FutureWarning: `distplot` is a deprecated function and will be removed in a future version. Please adapt your code to use either `displot` (a figure-level function with similar flexibility) or `histplot` (an axes-level function for histograms).\n",
      "  warnings.warn(msg, FutureWarning)\n"
     ]
    },
    {
     "data": {
      "text/plain": [
       "<AxesSubplot:>"
      ]
     },
     "execution_count": 18,
     "metadata": {},
     "output_type": "execute_result"
    },
    {
     "data": {
      "image/png": "[encoded data removed]",
      "text/plain": [
       "<Figure size 1728x432 with 3 Axes>"
      ]
     },
     "metadata": {
      "needs_background": "light"
     },
     "output_type": "display_data"
    }
   ],
   "source": [
    "# Plot the distributions of GFA Train\n",
    "f, axes = plt.subplots(1, 3,figsize=(24, 6))\n",
    "sb.distplot(gfa_train, kde = False, ax = axes[1], color = \"g\")\n"
   ]
  },
  {
   "cell_type": "markdown",
   "metadata": {},
   "source": [
    "#### Decision Tree in Scikit-Learn\n",
    "\n",
    "Scikit-Learn (`sklearn`) will be our de-facto Machine Learning library in Python.   \n",
    "Import the `DecisionTreeClassifier` model from `sklearn.tree`."
   ]
  },
  {
   "cell_type": "code",
   "execution_count": 19,
   "metadata": {},
   "outputs": [],
   "source": [
    "# Import Decision Tree Classifier model from Scikit-Learn\n",
    "from sklearn.tree import DecisionTreeClassifier\n",
    "\n",
    "# Create a Decision Tree Classifier object\n",
    "dectree = DecisionTreeClassifier(max_depth = 2)"
   ]
  },
  {
   "cell_type": "markdown",
   "metadata": {},
   "source": [
    "Train the Decision Tree Classifier model `dectree` using the Train Set.   \n",
    "Use `total_train` as *Predictor* and `legnd_train` as *Response*."
   ]
  },
  {
   "cell_type": "code",
   "execution_count": 20,
   "metadata": {},
   "outputs": [
    {
     "data": {
      "text/plain": [
       "DecisionTreeClassifier(max_depth=2)"
      ]
     },
     "execution_count": 20,
     "metadata": {},
     "output_type": "execute_result"
    }
   ],
   "source": [
    "# Train the Decision Tree Classifier model\n",
    "dectree.fit(gfa_train, wpc_train)"
   ]
  },
  {
   "cell_type": "markdown",
   "metadata": {},
   "source": [
    "#### Goodness of Fit of the Model\n",
    "\n",
    "Check how good the predictions are on the Train Set.    \n",
    "Metrics : Classification Accuracy and Confusion Matrix."
   ]
  },
  {
   "cell_type": "code",
   "execution_count": 21,
   "metadata": {},
   "outputs": [
    {
     "name": "stdout",
     "output_type": "stream",
     "text": [
      "Classification Accuracy \t: 0.5025\n"
     ]
    },
    {
     "data": {
      "text/plain": [
       "<AxesSubplot:>"
      ]
     },
     "execution_count": 21,
     "metadata": {},
     "output_type": "execute_result"
    },
    {
     "data": {
      "image/png": "[encoded data removed]",
      "text/plain": [
       "<Figure size 432x288 with 2 Axes>"
      ]
     },
     "metadata": {
      "needs_background": "light"
     },
     "output_type": "display_data"
    }
   ],
   "source": [
    "# Predict WPC corresponding to GFA Train\n",
    "gfa_train_pred = dectree.predict(gfa_train)\n",
    "\n",
    "# Print the Classification Accuracy\n",
    "print(\"Classification Accuracy \\t:\", dectree.score(gfa_train, wpc_train))\n",
    "\n",
    "# Plot the two-way Confusion Matrix\n",
    "from sklearn.metrics import confusion_matrix\n",
    "sb.heatmap(confusion_matrix(wpc_train, gfa_train_pred), \n",
    "           annot = True, fmt=\".0f\", annot_kws={\"size\": 18})"
   ]
  },
  {
   "cell_type": "markdown",
   "metadata": {},
   "source": [
    "Check how good the predictions are on the Test Set.    \n",
    "Metrics : Classification Accuracy and Confusion Matrix."
   ]
  },
  {
   "cell_type": "code",
   "execution_count": 22,
   "metadata": {},
   "outputs": [
    {
     "name": "stdout",
     "output_type": "stream",
     "text": [
      "Classification Accuracy \t: 0.525\n"
     ]
    },
    {
     "data": {
      "text/plain": [
       "<AxesSubplot:>"
      ]
     },
     "execution_count": 22,
     "metadata": {},
     "output_type": "execute_result"
    },
    {
     "data": {
      "image/png": "[encoded data removed]",
      "text/plain": [
       "<Figure size 432x288 with 2 Axes>"
      ]
     },
     "metadata": {
      "needs_background": "light"
     },
     "output_type": "display_data"
    }
   ],
   "source": [
    "# Predict wpc corresponding to gfa Test\n",
    "wpc_test_pred = dectree.predict(gfa_test)\n",
    "\n",
    "# Print the Classification Accuracy\n",
    "print(\"Classification Accuracy \\t:\", dectree.score(gfa_test, wpc_test))\n",
    "\n",
    "# Plot the two-way Confusion Matrix\n",
    "from sklearn.metrics import confusion_matrix\n",
    "sb.heatmap(confusion_matrix(wpc_test, wpc_test_pred), \n",
    "           annot = True, fmt=\".0f\", annot_kws={\"size\": 18})"
   ]
  },
  {
   "cell_type": "markdown",
   "metadata": {},
   "source": [
    "#### Classification Tree with Random Train-Test Split\n",
    "\n",
    "Split the Train and Test sets randomly, and perform Classification."
   ]
  },
  {
   "cell_type": "code",
   "execution_count": 23,
   "metadata": {},
   "outputs": [
    {
     "name": "stdout",
     "output_type": "stream",
     "text": [
      "Goodness of Fit of Model \tTrain Dataset\n",
      "Classification Accuracy \t: 0.5363636363636364\n",
      "\n",
      "Goodness of Fit of Model \tTest Dataset\n",
      "Classification Accuracy \t: 0.4090909090909091\n",
      "\n"
     ]
    },
    {
     "data": {
      "text/plain": [
       "<AxesSubplot:>"
      ]
     },
     "execution_count": 23,
     "metadata": {},
     "output_type": "execute_result"
    },
    {
     "data": {
      "image/png": "[encoded data removed]",
      "text/plain": [
       "<Figure size 864x288 with 4 Axes>"
      ]
     },
     "metadata": {
      "needs_background": "light"
     },
     "output_type": "display_data"
    }
   ],
   "source": [
    "# Import essential models and functions from sklearn\n",
    "from sklearn.tree import DecisionTreeClassifier\n",
    "from sklearn.model_selection import train_test_split\n",
    "from sklearn.metrics import confusion_matrix\n",
    "#from sklearn.tree import export_graphviz\n",
    "#import graphviz\n",
    "\n",
    "# Recall the WPC-GFA Dataset\n",
    "wpc = pd.DataFrame(default_data['Waste Production Category'])   # Response\n",
    "gfa = pd.DataFrame(default_data['GFA'])       # Predictor\n",
    "\n",
    "# Split the WPC-GFA Dataset into Train and Test\n",
    "X_train, X_test, y_train, y_test = train_test_split(gfa, wpc, test_size = 0.25)\n",
    "\n",
    "# Decision Tree using Train Data\n",
    "dectree = DecisionTreeClassifier(max_depth = 2)  # create the decision tree object\n",
    "dectree.fit(X_train, y_train)                    # train the decision tree model\n",
    "\n",
    "# Predict WPC values corresponding to GFA\n",
    "y_train_pred = dectree.predict(X_train)\n",
    "y_test_pred = dectree.predict(X_test)\n",
    "\n",
    "# Check the Goodness of Fit (on Train Data)\n",
    "print(\"Goodness of Fit of Model \\tTrain Dataset\")\n",
    "print(\"Classification Accuracy \\t:\", dectree.score(X_train, y_train))\n",
    "print()\n",
    "\n",
    "# Check the Goodness of Fit (on Test Data)\n",
    "print(\"Goodness of Fit of Model \\tTest Dataset\")\n",
    "print(\"Classification Accuracy \\t:\", dectree.score(X_test, y_test))\n",
    "print()\n",
    "\n",
    "# Plot the Confusion Matrix for Train and Test\n",
    "f, axes = plt.subplots(1, 2, figsize=(12, 4))\n",
    "sb.heatmap(confusion_matrix(y_train, y_train_pred),\n",
    "           annot = True, fmt=\".0f\", annot_kws={\"size\": 18}, ax = axes[0])\n",
    "sb.heatmap(confusion_matrix(y_test, y_test_pred), \n",
    "           annot = True, fmt=\".0f\", annot_kws={\"size\": 18}, ax = axes[1])"
   ]
  },
  {
   "cell_type": "markdown",
   "metadata": {},
   "source": [
    "## Multi-Variate Classification Tree\n",
    "\n",
    "We will start by setting up a Multi-Variate Classification problem.   \n",
    "\n",
    "Response Variable : **WPC**     \n",
    "Predictor Feature : **Typology Group, Sub-Type Group, GFA, Daily_Occupancy**       \n",
    "\n",
    "Extract the variables and the associated data as a Pandas `DataFrame`."
   ]
  },
  {
   "cell_type": "code",
   "execution_count": 24,
   "metadata": {},
   "outputs": [],
   "source": [
    "# Extract Response and Predictors\n",
    "y = pd.DataFrame(default_data[\"Waste Production Category\"])\n",
    "X = pd.DataFrame(default_data[[\"Typology Group\", \"Sub-Type Group\", \"GFA\", \"Daily_Occupancy\"]])"
   ]
  },
  {
   "cell_type": "markdown",
   "metadata": {},
   "source": [
    "Set up the classification problem with Train and Test datasets. "
   ]
  },
  {
   "cell_type": "code",
   "execution_count": 25,
   "metadata": {},
   "outputs": [
    {
     "name": "stdout",
     "output_type": "stream",
     "text": [
      "Train Set : (330, 1) (330, 4)\n",
      "Test Set  : (110, 1) (110, 4)\n"
     ]
    }
   ],
   "source": [
    "# Import train_test_split from sklearn\n",
    "from sklearn.model_selection import train_test_split\n",
    "\n",
    "# Split the Dataset into Train and Test\n",
    "X_train, X_test, y_train, y_test = train_test_split(X, y, test_size = 0.25)\n",
    "\n",
    "# Check the sample sizes\n",
    "print(\"Train Set :\", y_train.shape, X_train.shape)\n",
    "print(\"Test Set  :\", y_test.shape, X_test.shape)"
   ]
  },
  {
   "cell_type": "markdown",
   "metadata": {},
   "source": [
    "#### Basic Exploration\n",
    "\n",
    "Perform basic statistical exploration and visualization on the Train Set."
   ]
  },
  {
   "cell_type": "code",
   "execution_count": 26,
   "metadata": {},
   "outputs": [
    {
     "data": {
      "text/plain": [
       "Lowest Waste Production (<500KG)                  109\n",
       "Moderate Waste Production (1000-1500KG)            98\n",
       "Low Waste Production (500-1000KG)                  93\n",
       "Highest Waste Production (>3500KG)                 27\n",
       "Moderately High Waste Production (1500-2000KG)      3\n",
       "Name: Waste Production Category, dtype: int64"
      ]
     },
     "execution_count": 26,
     "metadata": {},
     "output_type": "execute_result"
    }
   ],
   "source": [
    "# Summary Statistics for Response\n",
    "y_train[\"Waste Production Category\"].value_counts()"
   ]
  },
  {
   "cell_type": "code",
   "execution_count": 27,
   "metadata": {},
   "outputs": [
    {
     "data": {
      "text/html": [
       "<div>\n",
       "<style scoped>\n",
       "    .dataframe tbody tr th:only-of-type {\n",
       "        vertical-align: middle;\n",
       "    }\n",
       "\n",
       "    .dataframe tbody tr th {\n",
       "        vertical-align: top;\n",
       "    }\n",
       "\n",
       "    .dataframe thead th {\n",
       "        text-align: right;\n",
       "    }\n",
       "</style>\n",
       "<table border=\"1\" class=\"dataframe\">\n",
       "  <thead>\n",
       "    <tr style=\"text-align: right;\">\n",
       "      <th></th>\n",
       "      <th>Typology Group</th>\n",
       "      <th>Sub-Type Group</th>\n",
       "      <th>GFA</th>\n",
       "      <th>Daily_Occupancy</th>\n",
       "    </tr>\n",
       "  </thead>\n",
       "  <tbody>\n",
       "    <tr>\n",
       "      <th>count</th>\n",
       "      <td>330.000000</td>\n",
       "      <td>330.000000</td>\n",
       "      <td>330.000000</td>\n",
       "      <td>330.000000</td>\n",
       "    </tr>\n",
       "    <tr>\n",
       "      <th>mean</th>\n",
       "      <td>3.448485</td>\n",
       "      <td>8.272727</td>\n",
       "      <td>42809.042424</td>\n",
       "      <td>5350.245455</td>\n",
       "    </tr>\n",
       "    <tr>\n",
       "      <th>std</th>\n",
       "      <td>1.568714</td>\n",
       "      <td>4.114418</td>\n",
       "      <td>50211.054436</td>\n",
       "      <td>8805.683806</td>\n",
       "    </tr>\n",
       "    <tr>\n",
       "      <th>min</th>\n",
       "      <td>1.000000</td>\n",
       "      <td>1.000000</td>\n",
       "      <td>1052.000000</td>\n",
       "      <td>2.000000</td>\n",
       "    </tr>\n",
       "    <tr>\n",
       "      <th>25%</th>\n",
       "      <td>2.000000</td>\n",
       "      <td>5.000000</td>\n",
       "      <td>8530.500000</td>\n",
       "      <td>202.750000</td>\n",
       "    </tr>\n",
       "    <tr>\n",
       "      <th>50%</th>\n",
       "      <td>3.000000</td>\n",
       "      <td>8.000000</td>\n",
       "      <td>13398.000000</td>\n",
       "      <td>492.500000</td>\n",
       "    </tr>\n",
       "    <tr>\n",
       "      <th>75%</th>\n",
       "      <td>5.000000</td>\n",
       "      <td>12.000000</td>\n",
       "      <td>96740.000000</td>\n",
       "      <td>7139.750000</td>\n",
       "    </tr>\n",
       "    <tr>\n",
       "      <th>max</th>\n",
       "      <td>6.000000</td>\n",
       "      <td>15.000000</td>\n",
       "      <td>169355.000000</td>\n",
       "      <td>29942.000000</td>\n",
       "    </tr>\n",
       "  </tbody>\n",
       "</table>\n",
       "</div>"
      ],
      "text/plain": [
       "       Typology Group  Sub-Type Group            GFA  Daily_Occupancy\n",
       "count      330.000000      330.000000     330.000000       330.000000\n",
       "mean         3.448485        8.272727   42809.042424      5350.245455\n",
       "std          1.568714        4.114418   50211.054436      8805.683806\n",
       "min          1.000000        1.000000    1052.000000         2.000000\n",
       "25%          2.000000        5.000000    8530.500000       202.750000\n",
       "50%          3.000000        8.000000   13398.000000       492.500000\n",
       "75%          5.000000       12.000000   96740.000000      7139.750000\n",
       "max          6.000000       15.000000  169355.000000     29942.000000"
      ]
     },
     "execution_count": 27,
     "metadata": {},
     "output_type": "execute_result"
    }
   ],
   "source": [
    "# Summary Statistics for Predictors\n",
    "X_train.describe()"
   ]
  },
  {
   "cell_type": "code",
   "execution_count": 28,
   "metadata": {},
   "outputs": [
    {
     "name": "stderr",
     "output_type": "stream",
     "text": [
      "C:\\Users\\Hongren\\Anaconda3\\lib\\site-packages\\seaborn\\_decorators.py:43: FutureWarning: Pass the following variable as a keyword arg: x. From version 0.12, the only valid positional argument will be `data`, and passing other arguments without an explicit keyword will result in an error or misinterpretation.\n",
      "  FutureWarning\n"
     ]
    },
    {
     "data": {
      "text/plain": [
       "<AxesSubplot:xlabel='Waste Production Category', ylabel='count'>"
      ]
     },
     "execution_count": 28,
     "metadata": {},
     "output_type": "execute_result"
    },
    {
     "data": {
      "image/png": "[encoded data removed]",
      "text/plain": [
       "<Figure size 432x288 with 1 Axes>"
      ]
     },
     "metadata": {
      "needs_background": "light"
     },
     "output_type": "display_data"
    }
   ],
   "source": [
    "# Draw the distribution of Response\n",
    "sb.countplot(y_train[\"Waste Production Category\"])"
   ]
  },
  {
   "cell_type": "code",
   "execution_count": 29,
   "metadata": {
    "scrolled": true
   },
   "outputs": [
    {
     "name": "stderr",
     "output_type": "stream",
     "text": [
      "C:\\Users\\Hongren\\Anaconda3\\lib\\site-packages\\seaborn\\_decorators.py:43: FutureWarning: Pass the following variable as a keyword arg: x. From version 0.12, the only valid positional argument will be `data`, and passing other arguments without an explicit keyword will result in an error or misinterpretation.\n",
      "  FutureWarning\n",
      "C:\\Users\\Hongren\\Anaconda3\\lib\\site-packages\\seaborn\\distributions.py:2551: FutureWarning: `distplot` is a deprecated function and will be removed in a future version. Please adapt your code to use either `displot` (a figure-level function with similar flexibility) or `histplot` (an axes-level function for histograms).\n",
      "  warnings.warn(msg, FutureWarning)\n",
      "C:\\Users\\Hongren\\Anaconda3\\lib\\site-packages\\seaborn\\_decorators.py:43: FutureWarning: Pass the following variable as a keyword arg: x. From version 0.12, the only valid positional argument will be `data`, and passing other arguments without an explicit keyword will result in an error or misinterpretation.\n",
      "  FutureWarning\n",
      "C:\\Users\\Hongren\\Anaconda3\\lib\\site-packages\\seaborn\\_decorators.py:43: FutureWarning: Pass the following variable as a keyword arg: x. From version 0.12, the only valid positional argument will be `data`, and passing other arguments without an explicit keyword will result in an error or misinterpretation.\n",
      "  FutureWarning\n",
      "C:\\Users\\Hongren\\Anaconda3\\lib\\site-packages\\seaborn\\distributions.py:2551: FutureWarning: `distplot` is a deprecated function and will be removed in a future version. Please adapt your code to use either `displot` (a figure-level function with similar flexibility) or `histplot` (an axes-level function for histograms).\n",
      "  warnings.warn(msg, FutureWarning)\n",
      "C:\\Users\\Hongren\\Anaconda3\\lib\\site-packages\\seaborn\\_decorators.py:43: FutureWarning: Pass the following variable as a keyword arg: x. From version 0.12, the only valid positional argument will be `data`, and passing other arguments without an explicit keyword will result in an error or misinterpretation.\n",
      "  FutureWarning\n",
      "C:\\Users\\Hongren\\Anaconda3\\lib\\site-packages\\seaborn\\_decorators.py:43: FutureWarning: Pass the following variable as a keyword arg: x. From version 0.12, the only valid positional argument will be `data`, and passing other arguments without an explicit keyword will result in an error or misinterpretation.\n",
      "  FutureWarning\n",
      "C:\\Users\\Hongren\\Anaconda3\\lib\\site-packages\\seaborn\\distributions.py:2551: FutureWarning: `distplot` is a deprecated function and will be removed in a future version. Please adapt your code to use either `displot` (a figure-level function with similar flexibility) or `histplot` (an axes-level function for histograms).\n",
      "  warnings.warn(msg, FutureWarning)\n",
      "C:\\Users\\Hongren\\Anaconda3\\lib\\site-packages\\seaborn\\_decorators.py:43: FutureWarning: Pass the following variable as a keyword arg: x. From version 0.12, the only valid positional argument will be `data`, and passing other arguments without an explicit keyword will result in an error or misinterpretation.\n",
      "  FutureWarning\n",
      "C:\\Users\\Hongren\\Anaconda3\\lib\\site-packages\\seaborn\\_decorators.py:43: FutureWarning: Pass the following variable as a keyword arg: x. From version 0.12, the only valid positional argument will be `data`, and passing other arguments without an explicit keyword will result in an error or misinterpretation.\n",
      "  FutureWarning\n",
      "C:\\Users\\Hongren\\Anaconda3\\lib\\site-packages\\seaborn\\distributions.py:2551: FutureWarning: `distplot` is a deprecated function and will be removed in a future version. Please adapt your code to use either `displot` (a figure-level function with similar flexibility) or `histplot` (an axes-level function for histograms).\n",
      "  warnings.warn(msg, FutureWarning)\n",
      "C:\\Users\\Hongren\\Anaconda3\\lib\\site-packages\\seaborn\\_decorators.py:43: FutureWarning: Pass the following variable as a keyword arg: x. From version 0.12, the only valid positional argument will be `data`, and passing other arguments without an explicit keyword will result in an error or misinterpretation.\n",
      "  FutureWarning\n"
     ]
    },
    {
     "data": {
      "image/png": "[encoded data removed]",
      "text/plain": [
       "<Figure size 1296x1152 with 12 Axes>"
      ]
     },
     "metadata": {
      "needs_background": "light"
     },
     "output_type": "display_data"
    }
   ],
   "source": [
    "# Draw the distributions of all Predictors\n",
    "f, axes = plt.subplots(4, 3, figsize=(18, 16))\n",
    "\n",
    "count = 0\n",
    "for var in X_train:\n",
    "    sb.boxplot(X_train[var], orient = \"h\", ax = axes[count,0])\n",
    "    sb.distplot(X_train[var], ax = axes[count,1])\n",
    "    sb.violinplot(X_train[var], ax = axes[count,2])\n",
    "    count += 1"
   ]
  },
  {
   "cell_type": "markdown",
   "metadata": {},
   "source": [
    "#### Goodness of Fit of the Model"
   ]
  },
  {
   "cell_type": "code",
   "execution_count": 30,
   "metadata": {},
   "outputs": [
    {
     "name": "stdout",
     "output_type": "stream",
     "text": [
      "Goodness of Fit of Model \tTrain Dataset\n",
      "Classification Accuracy \t: 0.7\n",
      "\n",
      "Goodness of Fit of Model \tTest Dataset\n",
      "Classification Accuracy \t: 0.6545454545454545\n",
      "\n"
     ]
    },
    {
     "data": {
      "text/plain": [
       "<AxesSubplot:>"
      ]
     },
     "execution_count": 30,
     "metadata": {},
     "output_type": "execute_result"
    },
    {
     "data": {
      "image/png": "[encoded data removed]",
      "text/plain": [
       "<Figure size 864x288 with 4 Axes>"
      ]
     },
     "metadata": {
      "needs_background": "light"
     },
     "output_type": "display_data"
    }
   ],
   "source": [
    "# Import DecisionTreeClassifier model from Scikit-Learn\n",
    "from sklearn.tree import DecisionTreeClassifier\n",
    "\n",
    "# Decision Tree using Train Data\n",
    "dectree = DecisionTreeClassifier(max_depth = 2)  # create the decision tree object\n",
    "dectree.fit(X_train, y_train)                    # train the decision tree model\n",
    "\n",
    "# Predict WPC values corresponding to GFA\n",
    "y_train_pred = dectree.predict(X_train)\n",
    "y_test_pred = dectree.predict(X_test)\n",
    "\n",
    "# Check the Goodness of Fit (on Train Data)\n",
    "print(\"Goodness of Fit of Model \\tTrain Dataset\")\n",
    "print(\"Classification Accuracy \\t:\", dectree.score(X_train, y_train))\n",
    "print()\n",
    "\n",
    "# Check the Goodness of Fit (on Test Data)\n",
    "print(\"Goodness of Fit of Model \\tTest Dataset\")\n",
    "print(\"Classification Accuracy \\t:\", dectree.score(X_test, y_test))\n",
    "print()\n",
    "\n",
    "# Plot the Confusion Matrix for Train and Test\n",
    "f, axes = plt.subplots(1, 2, figsize=(12, 4))\n",
    "sb.heatmap(confusion_matrix(y_train, y_train_pred),\n",
    "           annot = True, fmt=\".0f\", annot_kws={\"size\": 18}, ax = axes[0])\n",
    "sb.heatmap(confusion_matrix(y_test, y_test_pred), \n",
    "           annot = True, fmt=\".0f\", annot_kws={\"size\": 18}, ax = axes[1])"
   ]
  },
  {
   "cell_type": "markdown",
   "metadata": {},
   "source": [
    "## Prediction using a Classification Tree\n",
    "\n",
    "Once we have trained a Multi-Variate Classification Tree, we may use it to predict **Waste Production Category** for any particular Pokemon. "
   ]
  },
  {
   "cell_type": "code",
   "execution_count": 31,
   "metadata": {},
   "outputs": [
    {
     "name": "stdout",
     "output_type": "stream",
     "text": [
      "Goodness of Fit of Model \tTrain Dataset\n",
      "Classification Accuracy \t: 0.7636363636363637\n",
      "\n",
      "Goodness of Fit of Model \tTest Dataset\n",
      "Classification Accuracy \t: 0.7909090909090909\n",
      "\n"
     ]
    },
    {
     "data": {
      "text/plain": [
       "<AxesSubplot:>"
      ]
     },
     "execution_count": 31,
     "metadata": {},
     "output_type": "execute_result"
    },
    {
     "data": {
      "image/png": "[encoded data removed]",
      "text/plain": [
       "<Figure size 864x288 with 4 Axes>"
      ]
     },
     "metadata": {
      "needs_background": "light"
     },
     "output_type": "display_data"
    }
   ],
   "source": [
    "# Import essential models and functions from sklearn\n",
    "from sklearn.tree import DecisionTreeClassifier\n",
    "from sklearn.model_selection import train_test_split\n",
    "from sklearn.metrics import confusion_matrix\n",
    "\n",
    "# Extract Response and Predictors\n",
    "predictors = [\"Typology Group\", \"Sub-Type Group\", \"GFA\", \"Daily_Occupancy\"]\n",
    "\n",
    "y = pd.DataFrame(default_data['Waste Production Category'])\n",
    "X = pd.DataFrame(default_data[predictors]) \n",
    "\n",
    "# Split the Dataset into Train and Test\n",
    "X_train, X_test, y_train, y_test = train_test_split(X, y, test_size = 0.25)\n",
    "\n",
    "# Decision Tree using Train Data\n",
    "dectree = DecisionTreeClassifier(max_depth = 3)  # create the decision tree object\n",
    "dectree.fit(X_train, y_train)                    # train the decision tree model\n",
    "\n",
    "# Predict Response corresponding to Predictors\n",
    "y_train_pred = dectree.predict(X_train)\n",
    "y_test_pred = dectree.predict(X_test)\n",
    "\n",
    "# Check the Goodness of Fit (on Train Data)\n",
    "print(\"Goodness of Fit of Model \\tTrain Dataset\")\n",
    "print(\"Classification Accuracy \\t:\", dectree.score(X_train, y_train))\n",
    "print()\n",
    "\n",
    "# Check the Goodness of Fit (on Test Data)\n",
    "print(\"Goodness of Fit of Model \\tTest Dataset\")\n",
    "print(\"Classification Accuracy \\t:\", dectree.score(X_test, y_test))\n",
    "print()\n",
    "\n",
    "# Plot the Confusion Matrix for Train and Test\n",
    "f, axes = plt.subplots(1, 2, figsize=(12, 4))\n",
    "sb.heatmap(confusion_matrix(y_train, y_train_pred),\n",
    "           annot = True, fmt=\".0f\", annot_kws={\"size\": 18}, ax = axes[0])\n",
    "sb.heatmap(confusion_matrix(y_test, y_test_pred), \n",
    "           annot = True, fmt=\".0f\", annot_kws={\"size\": 18}, ax = axes[1])"
   ]
  },
  {
   "cell_type": "markdown",
   "metadata": {},
   "source": [
    "### Distribution of Responses"
   ]
  },
  {
   "cell_type": "code",
   "execution_count": 32,
   "metadata": {},
   "outputs": [],
   "source": [
    "# Extract Response and Predictors\n",
    "predictors = [\"Typology Group\", \"Sub-Type Group\", \"GFA\", \"Daily_Occupancy\"]\n",
    "\n",
    "y = pd.DataFrame(default_data['Waste Production Category'].astype('category'))\n",
    "X = pd.DataFrame(default_data[predictors])"
   ]
  },
  {
   "cell_type": "code",
   "execution_count": 33,
   "metadata": {},
   "outputs": [
    {
     "name": "stderr",
     "output_type": "stream",
     "text": [
      "C:\\Users\\Hongren\\Anaconda3\\lib\\site-packages\\seaborn\\_decorators.py:43: FutureWarning: Pass the following variable as a keyword arg: x. From version 0.12, the only valid positional argument will be `data`, and passing other arguments without an explicit keyword will result in an error or misinterpretation.\n",
      "  FutureWarning\n"
     ]
    },
    {
     "data": {
      "text/plain": [
       "<AxesSubplot:xlabel='Waste Production Category', ylabel='count'>"
      ]
     },
     "execution_count": 33,
     "metadata": {},
     "output_type": "execute_result"
    },
    {
     "data": {
      "image/png": "[encoded data removed]",
      "text/plain": [
       "<Figure size 1296x576 with 1 Axes>"
      ]
     },
     "metadata": {
      "needs_background": "light"
     },
     "output_type": "display_data"
    }
   ],
   "source": [
    "X_train, X_test, y_train, y_test = train_test_split(X, y, test_size = 0.25)\n",
    "\n",
    "# Draw the distribution of Response\n",
    "f, axes = plt.subplots(1, 1, figsize=(18, 8))\n",
    "sb.countplot(y_train[\"Waste Production Category\"])"
   ]
  }
 ],
 "metadata": {
  "kernelspec": {
   "display_name": "Python 3",
   "language": "python",
   "name": "python3"
  },
  "language_info": {
   "codemirror_mode": {
    "name": "ipython",
    "version": 3
   },
   "file_extension": ".py",
   "mimetype": "text/x-python",
   "name": "python",
   "nbconvert_exporter": "python",
   "pygments_lexer": "ipython3",
   "version": "3.8.5"
  }
 },
 "nbformat": 4,
 "nbformat_minor": 5
}
